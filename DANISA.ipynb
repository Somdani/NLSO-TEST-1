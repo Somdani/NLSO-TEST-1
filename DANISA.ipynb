{
 "cells": [
  {
   "cell_type": "markdown",
   "metadata": {},
   "source": [
    "# Bhekie Danisa: 201633631\n",
    "\n",
    "# NLSO841 TEST 1"
   ]
  },
  {
   "cell_type": "markdown",
   "metadata": {},
   "source": [
    "# ."
   ]
  },
  {
   "cell_type": "markdown",
   "metadata": {},
   "source": [
    "# Question One\n",
    "\n",
    "\n",
    "........................................................................................................................................................................................\n",
    "\n",
    "(i)\n",
    "\n",
    "    A1 =  [-5      0]\n",
    "\n",
    "          [ 0      7]\n",
    "          \n",
    "For the definiteness investigation of the given matrix, I follow the aigenvalues approach and solve them by calculating the determinant.\n",
    "our matrix is symetrix because A1 = A1.T, there for qualifies for definiteness investigation.\n",
    "\n",
    "\n",
    "    det(A1 - λI) = [-5 - λ     0]\n",
    "    \n",
    "                   [ 0     7 - λ]\n",
    "                   \n",
    "                 = (-5 - λ)(7 - λ) - 0.0\n",
    "                 = -35 + 5λ - 7λ + λ^2\n",
    "                   λ^2 - 2λ - 35 = 0\n",
    "                  (λ + 5)(λ - 7) = 0\n",
    "                  λ1 = -5 and λ2 = 7\n",
    "                  \n",
    "                  \n",
    "Since the values of λ are positive and negative which means it is neither negative, nor semi-positive, nor negative, nor semi-negative, and the determina det(A1) != 0,\n",
    "We can conclude that the matrix A1 is indifinite.\n",
    "\n",
    "\n",
    "\n",
    "\n",
    "\n",
    "\n",
    "    A2 =  [-5      0]\n",
    "\n",
    "          [ 0      7]\n",
    "          \n",
    "For the definiteness investigation of the given matrix, I follow the aigenvalues approach and solve them by calculating the determinant.\n",
    "our matrix is symetrix because A2 = A1.T, there for qualifies for definiteness investigation.\n",
    "\n",
    "\n",
    "    det(A2 - λI) = [5 - λ     0]\n",
    "    \n",
    "                   [ 0   -7 - λ]\n",
    "                   \n",
    "                 = (5 - λ)(-7 - λ) - 0.0\n",
    "                 = -35 - 5λ + 7λ + λ^2\n",
    "                   λ^2 + 2λ - 35 = 0\n",
    "                  (λ - 5)(λ + 7) = 0\n",
    "                  λ1 = 5 and λ2 = -7\n",
    "                  \n",
    "                  \n",
    "(ii)  Since the values of λ are positive and negative which means it is neither negative, nor semi-positive, nor negative, nor semi-negative, and the determina det(A2) != 0,\n",
    "We can conclude that the matrix A2 is indifinite.\n",
    "  \n",
    "\n",
    "\n",
    "\n",
    "Given the set S = {xϵRn: SUM i=1,...,n(ai * xi) = c}\n",
    "We assume that this holds for some values of n, ie. n=3\n",
    "\n",
    "Given the set S, we then let S in Rn be a convex set, with x1, x2, ..., xn ϵ S and let ai, a2, ..., an ϵ R satisfy ai >= 0, for instance. a1 + a2 +...+ an = 1\n",
    "We want to investigate if a1x1 + a2x2 +...+ anxn ϵ S.\n",
    "\n",
    "Suppose that x1, x2, x3 ϵ S, and a1 + a2 + a3 = 1, where a1, a2, a3 >= 0.\n",
    "We then show that c = a1x1 + a2x2 + a3x3 ϵ S but one or more ai is not equal to 1 and a1 != 0.\n",
    "\n",
    "It follows that c = a1x1 + (1 - a1)(b2x2 + b3x3) where b2 = a2/(1-a1) and b3 = a3/(a-a1) for b2, b3 >= 0, and b1 + b2 = (a2+a3)/(1-a1) = (1-a1)/(1-a1) = 1.\n",
    "\n",
    "Therefore, since S is convex and x2, x3 ϵ S, we then conclude that b2x2 + b3x3 ϵ S, this, and x1 are in S, then c ϵ S."
   ]
  },
  {
   "cell_type": "markdown",
   "metadata": {},
   "source": [
    "# Question Two\n",
    "\n",
    "..................................................................................................................................................................................................................................\n",
    "\n",
    "\n",
    "    Gradient Descent\n",
    "\n",
    "\n",
    "It is a first-order iterative optimization algorithm that is used to find a local minimum of a function by first finding its derivatives. It is mostly used to optimize neural networks in regression problems, to implement it, it requires to take the steps that are proportional to the negative gradient of the function at the current point and keep updating.\n",
    "\n",
    "    Algorithm\n",
    "\n",
    "1. Pick the initial point X0.\n",
    "2. Pick the step size αn\n",
    "3. Pick the descent direction as -G(Xn)\n",
    "4. Update Xn+1 = Xn - αn * G(Xn)\n",
    "\n",
    "\n",
    "\n",
    "\n",
    "\n",
    "        Newton Method\n",
    "\n",
    "This is an iterative method of finding the roots of a function that is differentiable. It is used to quickly find a good approximation for the roots of a real-valued function following an idea that a continous and differentiable function can be approximated by a stright line that is tangent to it.\n",
    "\n",
    "\n",
    "        Algorithm\n",
    "\n",
    "1. Find the approximations of the root α using Xn+1 = Xn - f(Xn)/df(Xn)\n",
    "2. Check if the error is torelated, |Xn+1 - Xn| < ϵ and if this does not hold, continue with approximation.\n",
    "3. If error tolerance is true, verify acuracy of Xn: f(Xn+ϵ) * f(Xn-ϵ) < 0\n",
    "    If signs are opposite, then Xn is acurate.\n",
    "    If signs are the same, then α is not in the interval [Xn-ϵ, Xn+ϵ]\n",
    "    \n",
    "    \n",
    "    \n",
    "\n",
    "        Projected Gradient Descent\n",
    "\n",
    "This is an optimization algorithm that combines gradient descent with some proximal steps. It is used to solve constrained optimization problems with simple constraints and allow solving some non-smooth problems at a linear rates.\n",
    "\n",
    "\n",
    "        Algorithm\n",
    "        \n",
    "1. Pick the initial point X0.\n",
    "2. Pick the step size αn\n",
    "3. Pick the descent direction as -G(Xn)\n",
    "4. Update Xn+1 = Xn - αn * G(Xn)\n",
    "5. Add the projection operator\n",
    "    Xn+1 = argmin xϵQ 1/2 ||x - Xn+1||"
   ]
  },
  {
   "cell_type": "markdown",
   "metadata": {},
   "source": [
    "# .        \n",
    "Mini Batch Gradient Descent\n",
    "    \n",
    "    Strengths\n",
    "1. Easily fits in the memory\n",
    "2. Computationally effective\n",
    "3. Benefits from vectorization\n",
    "\n",
    "    Weaknesses\n",
    "1. Requires minimum batch size which is small\n",
    "2. Allows kick out of cost function\n",
    "\n",
    "\n",
    "\n",
    "        Stochastic Gradient Descent\n",
    "    \n",
    "    Strengths\n",
    "1. Fit easier into memory because network processes a single sample at a time\n",
    "2. Processes faster in the computer \n",
    "3. Converges faster for larger datasets because of frequently update of parameters\n",
    "\n",
    "    Weaknesses\n",
    "1. Steps towards minima are very noisy\n",
    "2. May take longer to converge due to noisy steps\n",
    "\n",
    "\n",
    "\n",
    "        Conjugate Gradient Descent\n",
    "    \n",
    "    Strengths\n",
    "1. Uses relatively little memory for large problems\n",
    "2. Each step is fast since it requires no numerical algebra\n",
    "3. Uses simple formula to determine new vectore direction\n",
    "\n",
    "    Weaknesses\n",
    "1. Converges much more slowly\n",
    "2. Requires the number of cycles to reach the minimum\n",
    "\n",
    "\n",
    "\n",
    "        Newton Method\n",
    "    \n",
    "    Strengths\n",
    "1. Faster when close to solution\n",
    "2. Powerful and simple to implement\n",
    "3. Converges at a fast rate and can be easily modified \n",
    "\n",
    "    Weaknesses\n",
    "1. May take many steps before getting in a region of a convergence rate, therefore too slow\n",
    "2. Can be expensive to process for large problems\n",
    "\n",
    "\n",
    "\n",
    "        Conditional Gradient Descent\n",
    "    \n",
    "    Strengths\n",
    "1. Is a cheap linear optimization step when applied on problems with complex structure\n",
    "2. Make it easy to solve multiclass classification with bounded matrix \n",
    "3. Help to conquer big data challenge in optimization\n",
    "\n",
    "    Weaknesses\n",
    "1. Very expensive\n",
    "2. May not perform as desired"
   ]
  },
  {
   "cell_type": "markdown",
   "metadata": {},
   "source": [
    "# Question Tree"
   ]
  },
  {
   "cell_type": "markdown",
   "metadata": {},
   "source": [
    "### Gradient Descent"
   ]
  },
  {
   "cell_type": "code",
   "execution_count": 1,
   "metadata": {},
   "outputs": [],
   "source": [
    "import numpy as np\n",
    "import pandas as pd\n",
    "from numpy.linalg import inv\n",
    "import matplotlib.pyplot as plt\n",
    "from scipy import optimize"
   ]
  },
  {
   "cell_type": "code",
   "execution_count": 296,
   "metadata": {},
   "outputs": [],
   "source": [
    "np.random.seed(123)\n",
    "X = np.random.rand(2)\n",
    "α = 0.01\n",
    "epoch = 1000\n",
    "fx = X[0]**3+X[1]**2-X[0]+1"
   ]
  },
  {
   "cell_type": "code",
   "execution_count": 297,
   "metadata": {},
   "outputs": [],
   "source": [
    "def gradient_descent(x, y, α, epoch):\n",
    "    X1_new = []\n",
    "    X2_new = []\n",
    "    for i in range(epoch):\n",
    "        dfdx1 = 3*X[0]**2-1\n",
    "        X[0] = X[0] - α * dfdx1\n",
    "        X1_new.append(X[0])\n",
    "        \n",
    "        dfdx2 = 2*X[1]\n",
    "        X[1] = X[1] - α * dfdx2\n",
    "        X2_new.append(X[1])\n",
    "    \n",
    "    return X1_new, X2_new\n",
    "X1_new, X2_new = gradient_descent(X, fx, α, epoch) "
   ]
  },
  {
   "cell_type": "code",
   "execution_count": 298,
   "metadata": {},
   "outputs": [
    {
     "data": {
      "image/png": "[encoded data removed]",
      "text/plain": [
       "<Figure size 432x288 with 1 Axes>"
      ]
     },
     "metadata": {
      "needs_background": "light"
     },
     "output_type": "display_data"
    }
   ],
   "source": [
    "plt.title('Function 1')\n",
    "plt.xlabel('No. of iterations')\n",
    "plt.ylabel('Cost Values')\n",
    "plt.plot(X1_new)\n",
    "plt.show()"
   ]
  },
  {
   "cell_type": "code",
   "execution_count": null,
   "metadata": {},
   "outputs": [],
   "source": []
  },
  {
   "cell_type": "code",
   "execution_count": 299,
   "metadata": {},
   "outputs": [],
   "source": [
    "np.random.seed(123)\n",
    "X_ = np.random.rand(2)\n",
    "a = 0.01\n",
    "epoch = 1000\n",
    "fx1 = X_[0]**2+X_[1]*2+X_[0]+X_[1]+3"
   ]
  },
  {
   "cell_type": "code",
   "execution_count": 300,
   "metadata": {},
   "outputs": [],
   "source": [
    "def gradient_descent1(x, y, a, epoch):\n",
    "    X1_new1 = []\n",
    "    X2_new1 = []\n",
    "    for i in range(epoch):\n",
    "        dfdx11 = 2*X_[0]+1\n",
    "        X_[0] = X_[0] - a * dfdx11\n",
    "        X1_new1.append(X_[0])\n",
    "        \n",
    "        dfdx12 = 2*X_[1]+1\n",
    "        X_[1] = X_[1] - a * dfdx12\n",
    "        X2_new1.append(X_[1])\n",
    "    \n",
    "    return X1_new1, X2_new1\n",
    "X1_new1, X2_new1 = gradient_descent1(X, fx1, a, epoch) "
   ]
  },
  {
   "cell_type": "code",
   "execution_count": 301,
   "metadata": {},
   "outputs": [
    {
     "data": {
      "image/png": "[encoded data removed]",
      "text/plain": [
       "<Figure size 432x288 with 1 Axes>"
      ]
     },
     "metadata": {
      "needs_background": "light"
     },
     "output_type": "display_data"
    }
   ],
   "source": [
    "plt.title('Function 2')\n",
    "plt.xlabel('No. of iterations')\n",
    "plt.ylabel('Cost Values')\n",
    "plt.plot(X1_new)\n",
    "plt.show()"
   ]
  },
  {
   "cell_type": "code",
   "execution_count": null,
   "metadata": {},
   "outputs": [],
   "source": []
  },
  {
   "cell_type": "code",
   "execution_count": 302,
   "metadata": {},
   "outputs": [],
   "source": [
    "np.random.seed(123)\n",
    "Xc = np.random.rand(2)\n",
    "λ = 0.01\n",
    "epoch = 1000\n",
    "fx2 = 4*Xc[0]+2*Xc[1]+Xc[0]**2-4**Xc[0]*Xc[1]+Xc[1]**2"
   ]
  },
  {
   "cell_type": "code",
   "execution_count": 303,
   "metadata": {},
   "outputs": [],
   "source": [
    "def gradient_descent2(x, y, λ, epoch):\n",
    "    X1_new2 = []\n",
    "    X2_new2 = []\n",
    "    for i in range(epoch):\n",
    "        dfdx21 = 4+2*Xc[0]-4*Xc[1]\n",
    "        Xc[0] = Xc[0] - λ * dfdx21\n",
    "        X1_new2.append(Xc[0])\n",
    "        \n",
    "        dfdx22 = 2-4*Xc[1]+2*Xc[0]\n",
    "        Xc[1] = Xc[1] - α * dfdx22\n",
    "        X2_new2.append(Xc[1])\n",
    "    \n",
    "    return X1_new2, X2_new2\n",
    "X1_new2, X2_new2 = gradient_descent2(Xc, fx2, λ, epoch) "
   ]
  },
  {
   "cell_type": "code",
   "execution_count": 304,
   "metadata": {},
   "outputs": [
    {
     "data": {
      "image/png": "[encoded data removed]",
      "text/plain": [
       "<Figure size 432x288 with 1 Axes>"
      ]
     },
     "metadata": {
      "needs_background": "light"
     },
     "output_type": "display_data"
    }
   ],
   "source": [
    "plt.title('Function')\n",
    "plt.xlabel('No. of iterations')\n",
    "plt.ylabel('Cost Values')\n",
    "plt.plot(X1_new)\n",
    "plt.show()"
   ]
  },
  {
   "cell_type": "markdown",
   "metadata": {},
   "source": [
    "## Newton Method"
   ]
  },
  {
   "cell_type": "code",
   "execution_count": 14,
   "metadata": {},
   "outputs": [],
   "source": [
    "X = np.random.rand(2)\n",
    "X1 = X[0]\n",
    "X2 = X[1]\n",
    "iterate = 0\n",
    "ϵ = 0.003"
   ]
  },
  {
   "cell_type": "code",
   "execution_count": 15,
   "metadata": {},
   "outputs": [],
   "source": [
    "while iterate<5:\n",
    "    fx = np.matrix([[X1**3+X2**2-X1+1]])\n",
    "    \n",
    "    dfx1 = np.matrix([[3*X1**2-1, 2*X2]])\n",
    "    xn = np.array([[X1],[X2]])    \n",
    "    xn_new = xn - (fx/ dfx1)\n",
    "    iterate = iterate+1\n",
    "    \n",
    "    def check(X1, X2):\n",
    "        if abs(xn_new-xn) > ϵ:\n",
    "            iterate = -1\n",
    "            return X, iterate\n",
    "    "
   ]
  },
  {
   "cell_type": "code",
   "execution_count": 16,
   "metadata": {},
   "outputs": [
    {
     "name": "stdout",
     "output_type": "stream",
     "text": [
      "[[ 1.72240094 -0.69167641]\n",
      " [ 2.20026542 -0.21381193]]\n"
     ]
    }
   ],
   "source": [
    "print(xn_new)"
   ]
  },
  {
   "cell_type": "code",
   "execution_count": 19,
   "metadata": {},
   "outputs": [
    {
     "data": {
      "text/plain": [
       "<matplotlib.legend.Legend at 0x1c69697be08>"
      ]
     },
     "execution_count": 19,
     "metadata": {},
     "output_type": "execute_result"
    },
    {
     "data": {
      "image/png": "[encoded data removed]",
      "text/plain": [
       "<Figure size 432x288 with 1 Axes>"
      ]
     },
     "metadata": {
      "needs_background": "light"
     },
     "output_type": "display_data"
    }
   ],
   "source": [
    "x = np.array([i for i in xn_new])\n",
    "y = np.array(xn_new)\n",
    "fig = plt.figure()\n",
    "plt.scatter(x,y,label='Newton roots')\n",
    "plt.legend()"
   ]
  },
  {
   "cell_type": "code",
   "execution_count": null,
   "metadata": {},
   "outputs": [],
   "source": []
  },
  {
   "cell_type": "code",
   "execution_count": 20,
   "metadata": {},
   "outputs": [],
   "source": [
    "A = np.random.rand(2)\n",
    "A1 = A[0]\n",
    "A2 = A[1]\n",
    "iterater = 0\n",
    "ϵr = 0.005"
   ]
  },
  {
   "cell_type": "code",
   "execution_count": 21,
   "metadata": {},
   "outputs": [],
   "source": [
    "while iterater<5:\n",
    "    fxn = np.matrix([[A1**2+A2*2+A1+A2+3]])\n",
    "    \n",
    "    dfx2 = np.matrix([[2*A1+1,  2*A2+1]])\n",
    "    xn1 = np.array([[A1],[A2]])    \n",
    "    xn1_new = xn1 - (fxn/ dfx2)\n",
    "    iterater = iterater+1\n",
    "   \n",
    "    def check(A1, A2):\n",
    "        if abs(xn1_new-xn1) > ϵr:\n",
    "            iterater = -1\n",
    "            return A, iterater"
   ]
  },
  {
   "cell_type": "code",
   "execution_count": 22,
   "metadata": {},
   "outputs": [
    {
     "name": "stdout",
     "output_type": "stream",
     "text": [
      "[[-2.01962531 -1.71204321]\n",
      " [-1.8607748  -1.55319271]]\n"
     ]
    }
   ],
   "source": [
    "print(xn1_new)"
   ]
  },
  {
   "cell_type": "code",
   "execution_count": 23,
   "metadata": {},
   "outputs": [
    {
     "data": {
      "text/plain": [
       "<matplotlib.legend.Legend at 0x1c6968ff548>"
      ]
     },
     "execution_count": 23,
     "metadata": {},
     "output_type": "execute_result"
    },
    {
     "data": {
      "image/png": "[encoded data removed]",
      "text/plain": [
       "<Figure size 432x288 with 1 Axes>"
      ]
     },
     "metadata": {
      "needs_background": "light"
     },
     "output_type": "display_data"
    }
   ],
   "source": [
    "x1 = np.array([i for i in xn1_new])\n",
    "y1 = np.array(xn1_new)\n",
    "fig = plt.figure()\n",
    "plt.scatter(x1,y1,label='Newton roots')\n",
    "plt.legend()"
   ]
  },
  {
   "cell_type": "code",
   "execution_count": null,
   "metadata": {},
   "outputs": [],
   "source": []
  },
  {
   "cell_type": "code",
   "execution_count": 24,
   "metadata": {},
   "outputs": [],
   "source": [
    "B = np.random.rand(2)\n",
    "B1 = B[0]\n",
    "B2 = B[1]\n",
    "iterates = 0\n",
    "ϵrr = 0.001"
   ]
  },
  {
   "cell_type": "code",
   "execution_count": 25,
   "metadata": {},
   "outputs": [],
   "source": [
    "while iterates<5:\n",
    "    fxn1 = np.matrix([[ 4*B1+2*B2+B1**2-4**B1*B2+B2**2]])\n",
    "    \n",
    "    dfx3 = np.matrix([[4+2*B1-4*B2, 2-4*B2+2*B1]])\n",
    "    xn2 = np.array([[B1],[B2]])    \n",
    "    xn2_new = xn2 - (fxn1/ dfx3)\n",
    "    iterates = iterates+1\n",
    "    \n",
    "    def check(X1, X2):\n",
    "        if abs(xn2_new-xn2) > ϵrr:\n",
    "            iterates = -1\n",
    "            return B, iterates"
   ]
  },
  {
   "cell_type": "code",
   "execution_count": 26,
   "metadata": {},
   "outputs": [
    {
     "data": {
      "text/plain": [
       "<matplotlib.legend.Legend at 0x1c696a3d1c8>"
      ]
     },
     "execution_count": 26,
     "metadata": {},
     "output_type": "execute_result"
    },
    {
     "data": {
      "image/png": "[encoded data removed]",
      "text/plain": [
       "<Figure size 432x288 with 1 Axes>"
      ]
     },
     "metadata": {
      "needs_background": "light"
     },
     "output_type": "display_data"
    }
   ],
   "source": [
    "x2 = np.array([i for i in xn2_new])\n",
    "y2 = np.array(xn2_new)\n",
    "fig = plt.figure()\n",
    "plt.scatter(x2,y2,label='Newton roots')\n",
    "plt.legend()"
   ]
  },
  {
   "cell_type": "markdown",
   "metadata": {},
   "source": [
    "## Projected Gradient Descent"
   ]
  },
  {
   "cell_type": "markdown",
   "metadata": {},
   "source": [
    "#### I have struggled to get my projection right, due to time, I subimitted it with incorrect plots due to wrong calculations"
   ]
  },
  {
   "cell_type": "code",
   "execution_count": 2,
   "metadata": {},
   "outputs": [],
   "source": [
    "np.random.seed(123)\n",
    "X = np.random.rand(2)\n",
    "α = 0.01\n",
    "epoch = 0\n",
    "fx = X[0]**3+X[1]**2-X[0]+1"
   ]
  },
  {
   "cell_type": "code",
   "execution_count": 3,
   "metadata": {},
   "outputs": [],
   "source": [
    "def gradient_descent(x, y, α, epoch):\n",
    "    X1_new = []\n",
    "    X2_new = []\n",
    "    for i in range(epoch):\n",
    "        dfdx1 = 3*X[0]**2-1\n",
    "        X[0] = X[0] - α * dfdx1\n",
    "        X1_new.append(X[0])\n",
    "        \n",
    "        dfdx2 = 2*X[1]\n",
    "        X[1] = X[1] - α * dfdx2\n",
    "        X2_new.append(X[1])\n",
    "    \n",
    "    return X1_new, X2_new\n",
    "X1_new, X2_new = gradient_descent(X, fx, α, epoch) "
   ]
  },
  {
   "cell_type": "code",
   "execution_count": 4,
   "metadata": {},
   "outputs": [],
   "source": [
    "y = np.random.normal(0, 1, 1000)\n",
    "\n",
    "def proj(x):\n",
    "    \n",
    "    return y + X.dot(X.T)*(x-y)\n",
    "\n",
    "def quadratic(x):\n",
    "    return X**3+X**2-X+1"
   ]
  },
  {
   "cell_type": "code",
   "execution_count": 5,
   "metadata": {},
   "outputs": [
    {
     "data": {
      "image/png": "[encoded data removed]",
      "text/plain": [
       "<Figure size 432x288 with 1 Axes>"
      ]
     },
     "metadata": {
      "needs_background": "light"
     },
     "output_type": "display_data"
    }
   ],
   "source": [
    "Xx = proj(0)\n",
    "plt.plot(y, range(len(y)), [quadratic(Xx)]*len(y),\n",
    "        label='$\\\\frac{1}{2}|\\!|x_{\\mathrm{opt}}|\\!|^2$')\n",
    "plt.legend()\n",
    "plt.title('Function 1')\n",
    "plt.xlabel('No. of iterations')\n",
    "plt.ylabel('Values')\n",
    "plt.show()"
   ]
  },
  {
   "cell_type": "code",
   "execution_count": null,
   "metadata": {},
   "outputs": [],
   "source": []
  },
  {
   "cell_type": "code",
   "execution_count": 6,
   "metadata": {},
   "outputs": [],
   "source": [
    "np.random.seed(123)\n",
    "X_ = np.random.rand(2)\n",
    "a = 0.01\n",
    "epoch = 0\n",
    "fx1 = X_[0]**2+X_[1]*2+X_[0]+X_[1]+3"
   ]
  },
  {
   "cell_type": "code",
   "execution_count": 7,
   "metadata": {},
   "outputs": [],
   "source": [
    "def gradient_descent1(x, y, a, epoch):\n",
    "    X1_new1 = []\n",
    "    X2_new1 = []\n",
    "    for i in range(epoch):\n",
    "        dfdx11 = 2*X_[0]+1\n",
    "        X_[0] = X_[0] - a * dfdx11\n",
    "        X1_new1.append(X_[0])\n",
    "        \n",
    "        dfdx12 = 2*X_[1]+1\n",
    "        X_[1] = X_[1] - a * dfdx12\n",
    "        X2_new1.append(X_[1])\n",
    "    \n",
    "    return X1_new1, X2_new1\n",
    "X1_new1, X2_new1 = gradient_descent1(X, fx1, a, epoch) "
   ]
  },
  {
   "cell_type": "code",
   "execution_count": 8,
   "metadata": {},
   "outputs": [],
   "source": [
    "y = X_**2+X_*2+X_+X_+3\n",
    "def proj(x):\n",
    "    \n",
    "    return y + X.dot(X.T)*(x-y)\n",
    "\n",
    "def quadratic(x):\n",
    "    return X_**2+X_*2+X_+X_+3"
   ]
  },
  {
   "cell_type": "code",
   "execution_count": 9,
   "metadata": {},
   "outputs": [
    {
     "data": {
      "image/png": "[encoded data removed]",
      "text/plain": [
       "<Figure size 432x288 with 1 Axes>"
      ]
     },
     "metadata": {
      "needs_background": "light"
     },
     "output_type": "display_data"
    }
   ],
   "source": [
    "plt.plot(y, range(len(y)), [quadratic(X_)]*len(y),\n",
    "        label='$\\\\frac{1}{2}|\\!|x_{\\mathrm{opt}}|\\!|^2$')\n",
    "plt.legend()\n",
    "plt.title('Function 1')\n",
    "plt.xlabel('No. of iterations')\n",
    "plt.ylabel('Values')\n",
    "plt.show()"
   ]
  },
  {
   "cell_type": "code",
   "execution_count": null,
   "metadata": {},
   "outputs": [],
   "source": []
  },
  {
   "cell_type": "code",
   "execution_count": 10,
   "metadata": {},
   "outputs": [],
   "source": [
    "np.random.seed(123)\n",
    "Xc = np.random.rand(2)\n",
    "λ = 0.01\n",
    "epoch = 1000\n",
    "fx2 = 4*Xc[0]+2*Xc[1]+Xc[0]**2-4**Xc[0]*Xc[1]+Xc[1]**2"
   ]
  },
  {
   "cell_type": "code",
   "execution_count": 11,
   "metadata": {},
   "outputs": [],
   "source": [
    "def gradient_descent2(x, y, λ, epoch):\n",
    "    X1_new2 = []\n",
    "    X2_new2 = []\n",
    "    for i in range(epoch):\n",
    "        dfdx21 = 4+2*Xc[0]-4*Xc[1]\n",
    "        Xc[0] = Xc[0] - λ * dfdx21\n",
    "        X1_new2.append(Xc[0])\n",
    "        \n",
    "        dfdx22 = 2-4*Xc[1]+2*Xc[0]\n",
    "        Xc[1] = Xc[1] - α * dfdx22\n",
    "        X2_new2.append(Xc[1])\n",
    "    \n",
    "    return X1_new2, X2_new2\n",
    "X1_new2, X2_new2 = gradient_descent2(Xc, fx2, λ, epoch) "
   ]
  },
  {
   "cell_type": "code",
   "execution_count": 12,
   "metadata": {},
   "outputs": [],
   "source": [
    "y = np.random.normal(0, 1, 1000)\n",
    "\n",
    "def proj(x):\n",
    "    \n",
    "    return y + X.dot(X.T)*(x-y)\n",
    "\n",
    "def quadratic(x):\n",
    "    return 4*Xc+2*Xc+Xc**2-4**Xc*Xc+Xc**2"
   ]
  },
  {
   "cell_type": "code",
   "execution_count": 13,
   "metadata": {},
   "outputs": [
    {
     "data": {
      "image/png": "[encoded data removed]",
      "text/plain": [
       "<Figure size 432x288 with 1 Axes>"
      ]
     },
     "metadata": {
      "needs_background": "light"
     },
     "output_type": "display_data"
    }
   ],
   "source": [
    "Xy = proj(0)\n",
    "plt.plot(y, range(len(y)), [quadratic(Xc)]*len(y),\n",
    "        label='$\\\\frac{1}{2}|\\!|x_{\\mathrm{opt}}|\\!|^2$')\n",
    "plt.legend()\n",
    "plt.title('Function 1')\n",
    "plt.xlabel('No. of iterations')\n",
    "plt.ylabel('Values')\n",
    "plt.show()"
   ]
  },
  {
   "cell_type": "code",
   "execution_count": null,
   "metadata": {},
   "outputs": [],
   "source": []
  }
 ],
 "metadata": {
  "kernelspec": {
   "display_name": "Python 3",
   "language": "python",
   "name": "python3"
  },
  "language_info": {
   "codemirror_mode": {
    "name": "ipython",
    "version": 3
   },
   "file_extension": ".py",
   "mimetype": "text/x-python",
   "name": "python",
   "nbconvert_exporter": "python",
   "pygments_lexer": "ipython3",
   "version": "3.7.6"
  }
 },
 "nbformat": 4,
 "nbformat_minor": 4
}
